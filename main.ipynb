{
 "cells": [
  {
   "cell_type": "code",
   "execution_count": null,
   "id": "4e3817e7",
   "metadata": {},
   "outputs": [
    {
     "name": "stdout",
     "output_type": "stream",
     "text": [
      "Shape des images: (9164, 125, 94, 3)\n",
      "Nombre total d'images: 9164\n",
      "Nombre total de personnes: 1680\n",
      "Exemples de noms: ['Aaron Peirsol' 'Aaron Sorkin' 'Abdel Nasser Assidi' 'Abdoulaye Wade'\n",
      " 'Abdullah' 'Abdullah Gul' 'Abdullah al-Attiyah' 'Abdullatif Sener'\n",
      " 'Abel Pacheco' 'Abid Hamid Mahmud Al-Tikriti']\n",
      "Prétraitement des images...\n",
      "9702 paires générées au total\n"
     ]
    }
   ],
   "source": [
    "# fichier: data_prep_lfw.py\n",
    "import os\n",
    "import random\n",
    "from PIL import Image\n",
    "from pathlib import Path\n",
    "import numpy as np\n",
    "from sklearn.model_selection import train_test_split\n",
    "from sklearn.datasets import fetch_lfw_people\n",
    "import matplotlib.pyplot as plt\n",
    "\n",
    "IMAGE_SIZE = (160, 160)  # ou (224, 224)\n",
    "\n",
    "def preprocess_image(image_array, image_size=IMAGE_SIZE):\n",
    "    \"\"\"Redimensionne et convertit une image numpy (RGB)\"\"\"\n",
    "    img = Image.fromarray(image_array.astype(np.uint8))\n",
    "    img = img.resize(image_size)\n",
    "    arr = np.asarray(img).astype(np.uint8)\n",
    "    return arr\n",
    "\n",
    "def make_pairs(images, labels, n_same_per_person=5, n_diff_pairs=5000, seed=42):\n",
    "    \"\"\"Crée des paires (même personne / personnes différentes) à partir des images et labels\"\"\"\n",
    "    random.seed(seed)\n",
    "    same_pairs = []\n",
    "    diff_pairs = []\n",
    "\n",
    "    # Grouper les images par personne\n",
    "    people = {}\n",
    "    for idx, person in enumerate(labels):\n",
    "        people.setdefault(person, []).append(images[idx])\n",
    "\n",
    "    # same-person pairs\n",
    "    for person, imgs in people.items():\n",
    "        if len(imgs) < 2:\n",
    "            continue\n",
    "        combos = []\n",
    "        for i in range(len(imgs)):\n",
    "            for j in range(i+1, len(imgs)):\n",
    "                combos.append((imgs[i], imgs[j]))\n",
    "        random.shuffle(combos)\n",
    "        for pair in combos[:n_same_per_person]:\n",
    "            same_pairs.append((pair[0], pair[1], 1))\n",
    "\n",
    "    # diff-person pairs\n",
    "    people_list = list(people.keys())\n",
    "    while len(diff_pairs) < n_diff_pairs:\n",
    "        p1, p2 = random.sample(people_list, 2)\n",
    "        a = random.choice(people[p1])\n",
    "        b = random.choice(people[p2])\n",
    "        diff_pairs.append((a, b, 0))\n",
    "\n",
    "    pairs = same_pairs + diff_pairs\n",
    "    random.shuffle(pairs)\n",
    "    return pairs\n",
    "\n",
    "if __name__ == '__main__':\n",
    "    # Charger le dataset depuis sklearn\n",
    "    lfw = fetch_lfw_people(color=True, resize=1.0, min_faces_per_person=2, download_if_missing=True)\n",
    "    print(\"Shape des images:\", lfw.images.shape)\n",
    "    print(\"Nombre total d'images:\", len(lfw.images))\n",
    "    print(\"Nombre total de personnes:\", len(lfw.target_names))\n",
    "    print(\"Exemples de noms:\", lfw.target_names[:10])\n",
    "\n",
    "    # Prétraitement\n",
    "    print(\"Prétraitement des images...\")\n",
    "    images = np.array([preprocess_image(img) for img in lfw.images])\n",
    "    labels = lfw.target  # indices des personnes\n",
    "\n",
    "    # Génération des paires\n",
    "    pairs = make_pairs(images, labels, n_same_per_person=5, n_diff_pairs=5000)\n",
    "    print(f\"{len(pairs)} paires générées au total\")\n"
   ]
  },
  {
   "cell_type": "code",
   "execution_count": 6,
   "id": "b224890a",
   "metadata": {},
   "outputs": [
    {
     "data": {
      "text/plain": [
       "array([ 127,  353,  392, ...,  905,  160, 1329], shape=(9164,))"
      ]
     },
     "execution_count": 6,
     "metadata": {},
     "output_type": "execute_result"
    }
   ],
   "source": [
    "lfw.target "
   ]
  },
  {
   "cell_type": "code",
   "execution_count": 16,
   "id": "465673b9",
   "metadata": {},
   "outputs": [
    {
     "name": "stdout",
     "output_type": "stream",
     "text": [
      "Nombre d'images pour la personne avec l'index 127 : 9\n"
     ]
    }
   ],
   "source": [
    "import numpy as np\n",
    "\n",
    "# Compter le nombre d'occurrences de l'index 127\n",
    "count = np.sum(lfw.target == 163)\n",
    "\n",
    "print(f\"Nombre d'images pour la personne avec l'index 127 : {count}\")\n"
   ]
  },
  {
   "cell_type": "code",
   "execution_count": 17,
   "id": "673e769b",
   "metadata": {},
   "outputs": [
    {
     "data": {
      "text/plain": [
       "array([[0.5019608 , 0.37254903, 0.29803923, ..., 0.3764706 , 0.41960785,\n",
       "        0.5058824 ],\n",
       "       [0.2       , 0.1254902 , 0.13333334, ..., 0.21960784, 0.25490198,\n",
       "        0.28235295],\n",
       "       [0.18431373, 0.15686275, 0.09411765, ..., 0.41960785, 0.17254902,\n",
       "        0.13725491],\n",
       "       ...,\n",
       "       [0.28627452, 0.2       , 0.10588235, ..., 0.54509807, 0.6       ,\n",
       "        0.6       ],\n",
       "       [0.8980392 , 0.57254905, 0.45490196, ..., 0.7529412 , 0.7490196 ,\n",
       "        0.7411765 ],\n",
       "       [0.46666667, 0.28235295, 0.21176471, ..., 0.6431373 , 0.7490196 ,\n",
       "        0.8156863 ]], shape=(9164, 35250), dtype=float32)"
      ]
     },
     "execution_count": 17,
     "metadata": {},
     "output_type": "execute_result"
    }
   ],
   "source": [
    "lfw.data"
   ]
  }
 ],
 "metadata": {
  "kernelspec": {
   "display_name": "Python 3",
   "language": "python",
   "name": "python3"
  },
  "language_info": {
   "codemirror_mode": {
    "name": "ipython",
    "version": 3
   },
   "file_extension": ".py",
   "mimetype": "text/x-python",
   "name": "python",
   "nbconvert_exporter": "python",
   "pygments_lexer": "ipython3",
   "version": "3.10.9"
  }
 },
 "nbformat": 4,
 "nbformat_minor": 5
}
